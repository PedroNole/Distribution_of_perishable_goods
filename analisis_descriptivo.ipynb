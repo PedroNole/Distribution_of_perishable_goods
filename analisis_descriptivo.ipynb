{
 "cells": [
  {
   "cell_type": "code",
   "execution_count": 1,
   "id": "cfc5ece3-bd73-43b6-849a-7321e3ba5c23",
   "metadata": {},
   "outputs": [],
   "source": [
    "import os\n",
    "import pandas as pd\n",
    "import numpy as np"
   ]
  },
  {
   "cell_type": "markdown",
   "id": "dbc1c964",
   "metadata": {},
   "source": [
    "### ESTABLECER RUTA"
   ]
  },
  {
   "cell_type": "code",
   "execution_count": null,
   "id": "899d5c83",
   "metadata": {},
   "outputs": [],
   "source": []
  },
  {
   "cell_type": "markdown",
   "id": "e3e16d89",
   "metadata": {},
   "source": [
    "### CREACIÓN DE DATAFRAMES"
   ]
  },
  {
   "cell_type": "code",
   "execution_count": 7,
   "id": "f556eaa7",
   "metadata": {},
   "outputs": [],
   "source": [
    "df_orders = pd.read_excel('./datasets/df_orders.xlsx')\n",
    "df_vehicle = pd.read_excel('./datasets/df_vehicle.xlsx')\n",
    "df_location = pd.read_excel('./datasets/df_location.xlsx')\n",
    "df_historic_order_demand = pd.read_excel('./datasets/df_historic_order_demand.xlsx')\n",
    "df_distance_min = pd.read_excel('./datasets/df_distance_min.xlsx')\n",
    "df_distance_km = pd.read_excel('./datasets/df_distance_km.xlsx')"
   ]
  },
  {
   "cell_type": "markdown",
   "id": "55ff1db9",
   "metadata": {},
   "source": [
    "### ANÁLISIS DESCRIPTIVO"
   ]
  },
  {
   "cell_type": "code",
   "execution_count": 9,
   "id": "1c4cb39e",
   "metadata": {},
   "outputs": [],
   "source": [
    "df_orders['mes_anio'] = pd.to_datetime(df_orders['mes_anio'], format='%m-%Y')"
   ]
  },
  {
   "cell_type": "code",
   "execution_count": 10,
   "id": "ea07841f",
   "metadata": {},
   "outputs": [
    {
     "data": {
      "text/html": [
       "<div>\n",
       "<style scoped>\n",
       "    .dataframe tbody tr th:only-of-type {\n",
       "        vertical-align: middle;\n",
       "    }\n",
       "\n",
       "    .dataframe tbody tr th {\n",
       "        vertical-align: top;\n",
       "    }\n",
       "\n",
       "    .dataframe thead th {\n",
       "        text-align: right;\n",
       "    }\n",
       "</style>\n",
       "<table border=\"1\" class=\"dataframe\">\n",
       "  <thead>\n",
       "    <tr style=\"text-align: right;\">\n",
       "      <th></th>\n",
       "      <th>cliente</th>\n",
       "      <th>mes_anio</th>\n",
       "      <th>order_demand</th>\n",
       "    </tr>\n",
       "  </thead>\n",
       "  <tbody>\n",
       "    <tr>\n",
       "      <th>0</th>\n",
       "      <td>Cliente_1</td>\n",
       "      <td>2024-12-01</td>\n",
       "      <td>909</td>\n",
       "    </tr>\n",
       "    <tr>\n",
       "      <th>1</th>\n",
       "      <td>Cliente_2</td>\n",
       "      <td>2024-12-01</td>\n",
       "      <td>959</td>\n",
       "    </tr>\n",
       "    <tr>\n",
       "      <th>2</th>\n",
       "      <td>Cliente_3</td>\n",
       "      <td>2024-12-01</td>\n",
       "      <td>960</td>\n",
       "    </tr>\n",
       "    <tr>\n",
       "      <th>3</th>\n",
       "      <td>Cliente_4</td>\n",
       "      <td>2024-12-01</td>\n",
       "      <td>980</td>\n",
       "    </tr>\n",
       "    <tr>\n",
       "      <th>4</th>\n",
       "      <td>Cliente_5</td>\n",
       "      <td>2024-12-01</td>\n",
       "      <td>979</td>\n",
       "    </tr>\n",
       "  </tbody>\n",
       "</table>\n",
       "</div>"
      ],
      "text/plain": [
       "     cliente   mes_anio  order_demand\n",
       "0  Cliente_1 2024-12-01           909\n",
       "1  Cliente_2 2024-12-01           959\n",
       "2  Cliente_3 2024-12-01           960\n",
       "3  Cliente_4 2024-12-01           980\n",
       "4  Cliente_5 2024-12-01           979"
      ]
     },
     "execution_count": 10,
     "metadata": {},
     "output_type": "execute_result"
    }
   ],
   "source": [
    "df_orders.head(5)"
   ]
  },
  {
   "cell_type": "code",
   "execution_count": null,
   "id": "eff1f952",
   "metadata": {},
   "outputs": [],
   "source": []
  }
 ],
 "metadata": {
  "kernelspec": {
   "display_name": "Python 3",
   "language": "python",
   "name": "python3"
  },
  "language_info": {
   "codemirror_mode": {
    "name": "ipython",
    "version": 3
   },
   "file_extension": ".py",
   "mimetype": "text/x-python",
   "name": "python",
   "nbconvert_exporter": "python",
   "pygments_lexer": "ipython3",
   "version": "3.12.6"
  }
 },
 "nbformat": 4,
 "nbformat_minor": 5
}

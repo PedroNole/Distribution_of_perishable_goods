{
 "cells": [
  {
   "cell_type": "code",
   "execution_count": 11,
   "id": "cfc5ece3-bd73-43b6-849a-7321e3ba5c23",
   "metadata": {},
   "outputs": [],
   "source": [
    "import os\n",
    "import pandas as pd\n",
    "import numpy as np\n",
    "import matplotlib.pyplot as plt"
   ]
  },
  {
   "cell_type": "markdown",
   "id": "dbc1c964",
   "metadata": {},
   "source": [
    "### ESTABLECER RUTA"
   ]
  },
  {
   "cell_type": "code",
   "execution_count": null,
   "id": "899d5c83",
   "metadata": {},
   "outputs": [],
   "source": []
  },
  {
   "cell_type": "markdown",
   "id": "e3e16d89",
   "metadata": {},
   "source": [
    "### CREACIÓN DE DATAFRAMES"
   ]
  },
  {
   "cell_type": "code",
   "execution_count": 12,
   "id": "f556eaa7",
   "metadata": {},
   "outputs": [],
   "source": [
    "df_orders = pd.read_excel('./datasets/df_orders.xlsx')\n",
    "df_vehicle = pd.read_excel('./datasets/df_vehicle.xlsx')\n",
    "df_location = pd.read_excel('./datasets/df_location.xlsx')\n",
    "df_historic_order_demand = pd.read_excel('./datasets/df_historic_order_demand.xlsx')\n",
    "df_distance_min = pd.read_excel('./datasets/df_distance_min.xlsx')\n",
    "df_distance_km = pd.read_excel('./datasets/df_distance_km.xlsx')"
   ]
  },
  {
   "cell_type": "markdown",
   "id": "55ff1db9",
   "metadata": {},
   "source": [
    "### ANÁLISIS DESCRIPTIVO"
   ]
  },
  {
   "cell_type": "markdown",
   "id": "be37fba9-2985-4b27-b2f1-b8524e835cff",
   "metadata": {},
   "source": [
    "Lo primero determinamos cual es el objetivo a la hora de horientar nuestro modelo. Para ello determinaremos cuáles pueden ser nuestras tablas en las que apoyar todo nuestro trabajo. Para ello vemos que la tabla de orders e historic_order_demand son las más relevantes para dicho análisis."
   ]
  },
  {
   "cell_type": "markdown",
   "id": "f87efe3a-240c-437f-ac2d-0543eee2cc41",
   "metadata": {},
   "source": [
    "Decidimos separar la columna de mes_año por dos columnas. Siendo estas dos mes y año."
   ]
  },
  {
   "cell_type": "code",
   "execution_count": 13,
   "id": "ea07841f",
   "metadata": {},
   "outputs": [
    {
     "data": {
      "text/html": [
       "<div>\n",
       "<style scoped>\n",
       "    .dataframe tbody tr th:only-of-type {\n",
       "        vertical-align: middle;\n",
       "    }\n",
       "\n",
       "    .dataframe tbody tr th {\n",
       "        vertical-align: top;\n",
       "    }\n",
       "\n",
       "    .dataframe thead th {\n",
       "        text-align: right;\n",
       "    }\n",
       "</style>\n",
       "<table border=\"1\" class=\"dataframe\">\n",
       "  <thead>\n",
       "    <tr style=\"text-align: right;\">\n",
       "      <th></th>\n",
       "      <th>cliente</th>\n",
       "      <th>mes_anio</th>\n",
       "      <th>order_demand</th>\n",
       "    </tr>\n",
       "  </thead>\n",
       "  <tbody>\n",
       "    <tr>\n",
       "      <th>0</th>\n",
       "      <td>Cliente_1</td>\n",
       "      <td>12-2024</td>\n",
       "      <td>909</td>\n",
       "    </tr>\n",
       "    <tr>\n",
       "      <th>1</th>\n",
       "      <td>Cliente_2</td>\n",
       "      <td>12-2024</td>\n",
       "      <td>959</td>\n",
       "    </tr>\n",
       "    <tr>\n",
       "      <th>2</th>\n",
       "      <td>Cliente_3</td>\n",
       "      <td>12-2024</td>\n",
       "      <td>960</td>\n",
       "    </tr>\n",
       "    <tr>\n",
       "      <th>3</th>\n",
       "      <td>Cliente_4</td>\n",
       "      <td>12-2024</td>\n",
       "      <td>980</td>\n",
       "    </tr>\n",
       "    <tr>\n",
       "      <th>4</th>\n",
       "      <td>Cliente_5</td>\n",
       "      <td>12-2024</td>\n",
       "      <td>979</td>\n",
       "    </tr>\n",
       "  </tbody>\n",
       "</table>\n",
       "</div>"
      ],
      "text/plain": [
       "     cliente mes_anio  order_demand\n",
       "0  Cliente_1  12-2024           909\n",
       "1  Cliente_2  12-2024           959\n",
       "2  Cliente_3  12-2024           960\n",
       "3  Cliente_4  12-2024           980\n",
       "4  Cliente_5  12-2024           979"
      ]
     },
     "execution_count": 13,
     "metadata": {},
     "output_type": "execute_result"
    }
   ],
   "source": [
    "df_orders.head(5)"
   ]
  },
  {
   "cell_type": "code",
   "execution_count": 14,
   "id": "f96e2269-55d2-457a-9872-5cdc18387275",
   "metadata": {},
   "outputs": [],
   "source": [
    "df_orders[['mes', 'anio']] = df_orders['mes_anio'].str.split('-', n=1, expand=True)"
   ]
  },
  {
   "cell_type": "code",
   "execution_count": 15,
   "id": "b56d43ac-b204-45e8-9ffc-ee6e9d716488",
   "metadata": {},
   "outputs": [],
   "source": [
    "df_orders.drop('mes_anio', axis=1, inplace=True)"
   ]
  },
  {
   "cell_type": "code",
   "execution_count": 16,
   "id": "8016f6d6-20f7-4b73-a284-b0632e49c243",
   "metadata": {},
   "outputs": [
    {
     "data": {
      "text/html": [
       "<div>\n",
       "<style scoped>\n",
       "    .dataframe tbody tr th:only-of-type {\n",
       "        vertical-align: middle;\n",
       "    }\n",
       "\n",
       "    .dataframe tbody tr th {\n",
       "        vertical-align: top;\n",
       "    }\n",
       "\n",
       "    .dataframe thead th {\n",
       "        text-align: right;\n",
       "    }\n",
       "</style>\n",
       "<table border=\"1\" class=\"dataframe\">\n",
       "  <thead>\n",
       "    <tr style=\"text-align: right;\">\n",
       "      <th></th>\n",
       "      <th>cliente</th>\n",
       "      <th>order_demand</th>\n",
       "      <th>mes</th>\n",
       "      <th>anio</th>\n",
       "    </tr>\n",
       "  </thead>\n",
       "  <tbody>\n",
       "    <tr>\n",
       "      <th>0</th>\n",
       "      <td>Cliente_1</td>\n",
       "      <td>909</td>\n",
       "      <td>12</td>\n",
       "      <td>2024</td>\n",
       "    </tr>\n",
       "    <tr>\n",
       "      <th>1</th>\n",
       "      <td>Cliente_2</td>\n",
       "      <td>959</td>\n",
       "      <td>12</td>\n",
       "      <td>2024</td>\n",
       "    </tr>\n",
       "    <tr>\n",
       "      <th>2</th>\n",
       "      <td>Cliente_3</td>\n",
       "      <td>960</td>\n",
       "      <td>12</td>\n",
       "      <td>2024</td>\n",
       "    </tr>\n",
       "    <tr>\n",
       "      <th>3</th>\n",
       "      <td>Cliente_4</td>\n",
       "      <td>980</td>\n",
       "      <td>12</td>\n",
       "      <td>2024</td>\n",
       "    </tr>\n",
       "    <tr>\n",
       "      <th>4</th>\n",
       "      <td>Cliente_5</td>\n",
       "      <td>979</td>\n",
       "      <td>12</td>\n",
       "      <td>2024</td>\n",
       "    </tr>\n",
       "  </tbody>\n",
       "</table>\n",
       "</div>"
      ],
      "text/plain": [
       "     cliente  order_demand mes  anio\n",
       "0  Cliente_1           909  12  2024\n",
       "1  Cliente_2           959  12  2024\n",
       "2  Cliente_3           960  12  2024\n",
       "3  Cliente_4           980  12  2024\n",
       "4  Cliente_5           979  12  2024"
      ]
     },
     "execution_count": 16,
     "metadata": {},
     "output_type": "execute_result"
    }
   ],
   "source": [
    "df_orders.head(5)"
   ]
  },
  {
   "cell_type": "code",
   "execution_count": 17,
   "id": "2a0c8ca3-dedc-4fbf-a7a6-26f68e617f3e",
   "metadata": {},
   "outputs": [],
   "source": [
    "df_historic_order_demand[['mes', 'anio']] = df_historic_order_demand['mes_anio'].str.split('-', n=1, expand=True)"
   ]
  },
  {
   "cell_type": "code",
   "execution_count": 18,
   "id": "3ffa459f-e23d-4002-ac66-13452fb1f8f2",
   "metadata": {},
   "outputs": [],
   "source": [
    "df_historic_order_demand.drop('mes_anio', axis=1, inplace=True)"
   ]
  },
  {
   "cell_type": "code",
   "execution_count": 19,
   "id": "1e2b1862-d998-44d8-ba65-265d288c3a19",
   "metadata": {},
   "outputs": [
    {
     "data": {
      "text/html": [
       "<div>\n",
       "<style scoped>\n",
       "    .dataframe tbody tr th:only-of-type {\n",
       "        vertical-align: middle;\n",
       "    }\n",
       "\n",
       "    .dataframe tbody tr th {\n",
       "        vertical-align: top;\n",
       "    }\n",
       "\n",
       "    .dataframe thead th {\n",
       "        text-align: right;\n",
       "    }\n",
       "</style>\n",
       "<table border=\"1\" class=\"dataframe\">\n",
       "  <thead>\n",
       "    <tr style=\"text-align: right;\">\n",
       "      <th></th>\n",
       "      <th>cliente</th>\n",
       "      <th>order_demand</th>\n",
       "      <th>mes</th>\n",
       "      <th>anio</th>\n",
       "    </tr>\n",
       "  </thead>\n",
       "  <tbody>\n",
       "    <tr>\n",
       "      <th>0</th>\n",
       "      <td>Cliente_1</td>\n",
       "      <td>857.0</td>\n",
       "      <td>12</td>\n",
       "      <td>2020</td>\n",
       "    </tr>\n",
       "    <tr>\n",
       "      <th>1</th>\n",
       "      <td>Cliente_2</td>\n",
       "      <td>941.0</td>\n",
       "      <td>12</td>\n",
       "      <td>2020</td>\n",
       "    </tr>\n",
       "    <tr>\n",
       "      <th>2</th>\n",
       "      <td>Cliente_3</td>\n",
       "      <td>878.0</td>\n",
       "      <td>12</td>\n",
       "      <td>2020</td>\n",
       "    </tr>\n",
       "    <tr>\n",
       "      <th>3</th>\n",
       "      <td>Cliente_4</td>\n",
       "      <td>949.0</td>\n",
       "      <td>12</td>\n",
       "      <td>2020</td>\n",
       "    </tr>\n",
       "    <tr>\n",
       "      <th>4</th>\n",
       "      <td>Cliente_5</td>\n",
       "      <td>932.0</td>\n",
       "      <td>12</td>\n",
       "      <td>2020</td>\n",
       "    </tr>\n",
       "  </tbody>\n",
       "</table>\n",
       "</div>"
      ],
      "text/plain": [
       "     cliente  order_demand mes  anio\n",
       "0  Cliente_1         857.0  12  2020\n",
       "1  Cliente_2         941.0  12  2020\n",
       "2  Cliente_3         878.0  12  2020\n",
       "3  Cliente_4         949.0  12  2020\n",
       "4  Cliente_5         932.0  12  2020"
      ]
     },
     "execution_count": 19,
     "metadata": {},
     "output_type": "execute_result"
    }
   ],
   "source": [
    "df_historic_order_demand.head(5)"
   ]
  },
  {
   "cell_type": "markdown",
   "id": "85ca0453-ffe4-4fc4-a092-39d7a5c3e50c",
   "metadata": {},
   "source": [
    "Para proceder con nuestro análisis, primero decidimos ver el histórico de pedidos, para ver cuál es el año y cuál es el mes que más pedidos han recibido."
   ]
  },
  {
   "cell_type": "code",
   "execution_count": null,
   "id": "297927cb-484a-432c-bbce-64f73494fd7f",
   "metadata": {},
   "outputs": [],
   "source": []
  }
 ],
 "metadata": {
  "kernelspec": {
   "display_name": "Python 3 (ipykernel)",
   "language": "python",
   "name": "python3"
  },
  "language_info": {
   "codemirror_mode": {
    "name": "ipython",
    "version": 3
   },
   "file_extension": ".py",
   "mimetype": "text/x-python",
   "name": "python",
   "nbconvert_exporter": "python",
   "pygments_lexer": "ipython3",
   "version": "3.13.0"
  }
 },
 "nbformat": 4,
 "nbformat_minor": 5
}

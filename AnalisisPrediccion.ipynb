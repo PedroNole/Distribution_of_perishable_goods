{
 "cells": [
  {
   "cell_type": "code",
   "execution_count": null,
   "id": "cfc5ece3-bd73-43b6-849a-7321e3ba5c23",
   "metadata": {},
   "outputs": [],
   "source": [
    "import os\n",
    "import pandas as pd\n",
    "import numpy as np\n",
    "import matplotlib.pyplot as plt\n",
    "import seaborn as sns\n",
    "import plotly.express as px\n"
   ]
  },
  {
   "cell_type": "markdown",
   "id": "e3e16d89",
   "metadata": {},
   "source": [
    "### CREACIÓN DE DATASETS"
   ]
  },
  {
   "cell_type": "code",
   "execution_count": null,
   "id": "f556eaa7",
   "metadata": {},
   "outputs": [],
   "source": [
    "df_orders = pd.read_excel('./datasets/df_orders.xlsx')\n",
    "df_vehicle = pd.read_excel('./datasets/df_vehicle.xlsx')\n",
    "df_location = pd.read_excel('./datasets/df_location.xlsx')\n",
    "df_historic_orders = pd.read_excel('./datasets/df_historic_order_demand.xlsx')\n",
    "df_distance_min = pd.read_excel('./datasets/df_distance_min.xlsx')\n",
    "df_distance_km = pd.read_excel('./datasets/df_distance_km.xlsx')"
   ]
  },
  {
   "cell_type": "markdown",
   "id": "55ff1db9",
   "metadata": {},
   "source": [
    "### ANÁLISIS DESCRIPTIVO"
   ]
  },
  {
   "cell_type": "markdown",
   "id": "be37fba9-2985-4b27-b2f1-b8524e835cff",
   "metadata": {},
   "source": [
    "Lo primero determinamos cual es el objetivo a la hora de horientar nuestro modelo. Para ello determinaremos cuáles pueden ser nuestras tablas en las que apoyar todo nuestro trabajo. Para ello vemos que la tabla de orders e historic_order_demand son las más relevantes para dicho análisis."
   ]
  },
  {
   "cell_type": "markdown",
   "id": "f87efe3a-240c-437f-ac2d-0543eee2cc41",
   "metadata": {},
   "source": [
    "Decidimos separar la columna de mes_año por dos columnas. Siendo estas dos mes y año."
   ]
  },
  {
   "cell_type": "code",
   "execution_count": null,
   "id": "8be55d99",
   "metadata": {},
   "outputs": [],
   "source": [
    "df_orders[[\"mes\", \"año\"]] = df_orders[\"mes_anio\"].str.split(\"-\", expand=True).astype(int)\n",
    "df_orders.drop(columns=[\"mes_anio\"], inplace=True)\n",
    "\n",
    "df_historic_orders[[\"mes\", \"año\"]] = df_historic_orders[\"mes_anio\"].str.split(\"-\", expand=True).astype(int)\n",
    "df_historic_orders.drop(columns=[\"mes_anio\"], inplace=True)"
   ]
  },
  {
   "cell_type": "code",
   "execution_count": null,
   "id": "fdc9789c",
   "metadata": {},
   "outputs": [],
   "source": [
    "df_orders.head(5)"
   ]
  },
  {
   "cell_type": "code",
   "execution_count": null,
   "id": "98742acf",
   "metadata": {},
   "outputs": [],
   "source": [
    "df_historic_orders.head(5)"
   ]
  },
  {
   "cell_type": "code",
   "execution_count": null,
   "id": "360dbc41",
   "metadata": {},
   "outputs": [],
   "source": [
    "print(\"Dimensiones de las distancias en Kilómetros:\", df_distance_km.shape)\n",
    "print(\"Dimensiones de las distancias en Minutos:\", df_distance_min.shape)"
   ]
  },
  {
   "cell_type": "code",
   "execution_count": null,
   "id": "25b69397",
   "metadata": {},
   "outputs": [],
   "source": [
    "# Resumen estadístico de las distancias\n",
    "print(\"\\nResumen de las distancias en Kilómetros:\")\n",
    "df_distance_km.describe()"
   ]
  },
  {
   "cell_type": "code",
   "execution_count": null,
   "id": "72167dd1",
   "metadata": {},
   "outputs": [],
   "source": [
    "\n",
    "print(\"\\nResumen de las distancias en Minutos:\")\n",
    "df_distance_min.describe()"
   ]
  },
  {
   "cell_type": "markdown",
   "id": "2a6b5188",
   "metadata": {},
   "source": [
    "Creamos nuevos datasets para ver la disntacia tanto en kilometros como del almacén de los diferentes clientes"
   ]
  },
  {
   "cell_type": "code",
   "execution_count": null,
   "id": "c8622111",
   "metadata": {},
   "outputs": [],
   "source": [
    "df_distacia_almacen_km = df_distance_km[[\"Almacén\"]].copy()\n",
    "df_distacia_almacen_km[\"cliente\"] = df_distance_km.index + 1"
   ]
  },
  {
   "cell_type": "code",
   "execution_count": null,
   "id": "a3e3ce2f",
   "metadata": {},
   "outputs": [],
   "source": [
    "df_distacia_almacen_min = df_distance_min[[\"Almacén\"]].copy()\n",
    "df_distacia_almacen_min[\"cliente\"] = df_distance_min.index + 1"
   ]
  },
  {
   "cell_type": "markdown",
   "id": "3fbc557d",
   "metadata": {},
   "source": [
    "Estandarizamos la columna de clientes en los diferentes datasets"
   ]
  },
  {
   "cell_type": "code",
   "execution_count": null,
   "id": "479a5c0f",
   "metadata": {},
   "outputs": [],
   "source": [
    "def estandarizar_cliente(cliente):\n",
    "    if isinstance(cliente, int):\n",
    "        return f'cliente_{cliente}'\n",
    "    else:\n",
    "        return str(cliente).strip().lower()\n",
    "\n",
    "\n",
    "datasets = [df_historic_orders, df_orders, df_distacia_almacen_km, df_distacia_almacen_min]\n",
    "for df in datasets:\n",
    "    df[\"cliente\"] = df[\"cliente\"].apply(estandarizar_cliente)\n"
   ]
  },
  {
   "cell_type": "code",
   "execution_count": null,
   "id": "9de3a312",
   "metadata": {},
   "outputs": [],
   "source": [
    "df_historic_orders.head(5)"
   ]
  },
  {
   "cell_type": "code",
   "execution_count": null,
   "id": "7a5d4a95",
   "metadata": {},
   "outputs": [],
   "source": [
    "df_distacia_almacen_min.head(5)"
   ]
  },
  {
   "cell_type": "markdown",
   "id": "1e69c8fe",
   "metadata": {},
   "source": [
    "#### Relación entre la Distancia del Almacén y la Demanda de Pedidos"
   ]
  },
  {
   "cell_type": "code",
   "execution_count": null,
   "id": "f3a4ec02",
   "metadata": {},
   "outputs": [],
   "source": [
    "total_demand_per_client = df_historic_orders.groupby('cliente')\n",
    "total_demand_per_client"
   ]
  },
  {
   "cell_type": "code",
   "execution_count": null,
   "id": "0c57afb7",
   "metadata": {},
   "outputs": [],
   "source": [
    "df_distance_demand = pd.merge(df_distacia_almacen_km, total_demand_per_client, on='cliente')\n",
    "\n",
    "fig = px.scatter(df_distance_demand, x='Almacén', y='order_demand', text='cliente', title='Relación entre la Distancia del Almacén y la Demanda de Pedidos')\n",
    "fig.update_layout(xaxis_title='Distancia al Almacén (km)', yaxis_title='Demanda Total de Pedidos (kg)')\n",
    "fig.show()"
   ]
  },
  {
   "cell_type": "markdown",
   "id": "15d095da",
   "metadata": {},
   "source": [
    "#### Relación entre el tiempo Almacén-Cliente y la Demanda de Pedidos"
   ]
  },
  {
   "cell_type": "code",
   "execution_count": null,
   "id": "22d8ad96",
   "metadata": {},
   "outputs": [],
   "source": [
    "df_time_demand = pd.merge(df_distacia_almacen_min, total_demand_per_client, on='cliente')\n",
    "\n",
    "fig = px.scatter(df_time_demand, x='Almacén', y='order_demand', text='cliente', title='Relación entre la tiempo Almacén-Cliente y la Demanda de Pedidos')\n",
    "fig.update_layout(xaxis_title='Tiempo desde el almacén(minutos)', yaxis_title='Demanda Total de Pedidos (kg)')\n",
    "fig.show()"
   ]
  },
  {
   "cell_type": "markdown",
   "id": "46260281",
   "metadata": {},
   "source": [
    "#### Demanda mensual total por mes"
   ]
  },
  {
   "cell_type": "code",
   "execution_count": null,
   "id": "a9bc89a3",
   "metadata": {},
   "outputs": [],
   "source": [
    "# Calcular la demanda mensual total\n",
    "df_monthly_demand = df_historic_orders.groupby(['año', 'mes']).agg({'order_demand': 'sum'}).reset_index()\n",
    "\n",
    "# Crear el gráfico de demanda mensual total\n",
    "fig = px.line(df_monthly_demand, x='mes', y='order_demand', color='año', markers=True, title='Demanda Mensual Total')\n",
    "fig.update_layout(xaxis_title='Mes', yaxis_title='Demanda Total (kg)')\n",
    "fig.show()"
   ]
  },
  {
   "cell_type": "markdown",
   "id": "048dd740",
   "metadata": {},
   "source": [
    "#### Distribución de la demanda de pedidos en el último mes."
   ]
  },
  {
   "cell_type": "code",
   "execution_count": null,
   "id": "82385d9c",
   "metadata": {},
   "outputs": [],
   "source": [
    "fig1 = px.histogram(df_orders, x='order_demand', nbins=10, title='Distribución de la Demanda de Pedidos en el Último Mes')\n",
    "fig1.update_layout(xaxis_title='Demanda de Pedidos (kg)', yaxis_title='Frecuencia')\n",
    "fig1.show()"
   ]
  },
  {
   "cell_type": "markdown",
   "id": "06b98408",
   "metadata": {},
   "source": [
    "#### Tendencia de la demanda histórica de pedidos."
   ]
  },
  {
   "cell_type": "code",
   "execution_count": null,
   "id": "e45ae455",
   "metadata": {},
   "outputs": [],
   "source": [
    "fig2 = px.line(df_historic_orders, x='año', y='order_demand', color='cliente', markers=True, title='Tendencia de la Demanda Histórica de Pedidos')\n",
    "fig2.update_layout(xaxis_title='Año', yaxis_title='Demanda de Pedidos (kg)')\n",
    "fig2.show()\n"
   ]
  },
  {
   "cell_type": "markdown",
   "id": "48ee4e3d",
   "metadata": {},
   "source": [
    "#### Capacidad y Costo por km de los Vehículos"
   ]
  },
  {
   "cell_type": "code",
   "execution_count": null,
   "id": "58ba7e03",
   "metadata": {},
   "outputs": [],
   "source": [
    "fig3 = px.scatter(df_vehicle, x='capacidad_kg', y='costo_km', size='autonomia_km', title='Capacidad y Costo por km de los Vehículos')\n",
    "fig3.update_layout(xaxis_title='Capacidad (kg)', yaxis_title='Costo por km')\n",
    "fig3.show()"
   ]
  },
  {
   "cell_type": "markdown",
   "id": "3e77d921",
   "metadata": {},
   "source": [
    "#### Localización geográfica de los clientes"
   ]
  },
  {
   "cell_type": "code",
   "execution_count": null,
   "id": "e36487fc",
   "metadata": {},
   "outputs": [],
   "source": [
    "fig6 = px.scatter(df_location, x='Longitud', y='Latitud', text='Cliente', title='Localización Geográfica de los Clientes')\n",
    "fig6.update_traces(textposition='top center')\n",
    "fig6.update_layout(xaxis_title='Longitud', yaxis_title='Latitud')\n",
    "fig6.show()"
   ]
  },
  {
   "cell_type": "code",
   "execution_count": null,
   "id": "495854d8",
   "metadata": {},
   "outputs": [],
   "source": []
  }
 ],
 "metadata": {
  "kernelspec": {
   "display_name": "Python 3",
   "language": "python",
   "name": "python3"
  },
  "language_info": {
   "codemirror_mode": {
    "name": "ipython",
    "version": 3
   },
   "file_extension": ".py",
   "mimetype": "text/x-python",
   "name": "python",
   "nbconvert_exporter": "python",
   "pygments_lexer": "ipython3",
   "version": "3.13.0"
  }
 },
 "nbformat": 4,
 "nbformat_minor": 5
}

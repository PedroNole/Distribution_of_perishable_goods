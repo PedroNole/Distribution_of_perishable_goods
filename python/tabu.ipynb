{
 "cells": [
  {
   "cell_type": "code",
   "execution_count": 131,
   "metadata": {},
   "outputs": [],
   "source": [
    "import pandas as pd\n",
    "import numpy as np\n",
    "import random\n",
    "import matplotlib.pyplot as plt"
   ]
  },
  {
   "cell_type": "code",
   "execution_count": 132,
   "metadata": {},
   "outputs": [],
   "source": [
    "df_location = pd.read_excel('df_location.xlsx')\n",
    "df_distance = pd.read_excel('df_distance_km.xlsx')\n",
    "df_vehicle = pd.read_excel('df_vehicle.xlsx')\n",
    "df_orders = pd.read_excel('df_orders.xlsx')"
   ]
  },
  {
   "cell_type": "code",
   "execution_count": 133,
   "metadata": {},
   "outputs": [],
   "source": [
    "clients_names = df_location['Cliente'].to_list()\n",
    "clients_coords = df_location[['Latitud','Longitud']].to_numpy()\n",
    "\n",
    "clients = {name: coord for name, coord in zip(clients_names, clients_coords)}"
   ]
  },
  {
   "cell_type": "code",
   "execution_count": 134,
   "metadata": {},
   "outputs": [],
   "source": [
    "distances_matrix = df_distance.to_numpy()"
   ]
  },
  {
   "cell_type": "code",
   "execution_count": 135,
   "metadata": {},
   "outputs": [],
   "source": [
    "def calculate_route_distance(route, distance_matrix, cost_per_unit):\n",
    "    distance = 0\n",
    "    for i in range(len(route) - 1):\n",
    "        dist = distance_matrix[route[i]][route[i + 1]]\n",
    "        if dist == 0:\n",
    "            return float('inf')\n",
    "        distance += dist * cost_per_unit\n",
    "    return distance"
   ]
  },
  {
   "cell_type": "code",
   "execution_count": 136,
   "metadata": {},
   "outputs": [],
   "source": [
    "def is_valid_route(route, demandas, capacity):\n",
    "    total_demand = sum(demandas[cliente] for cliente in route)\n",
    "    return total_demand <= capacity"
   ]
  },
  {
   "cell_type": "code",
   "execution_count": 137,
   "metadata": {},
   "outputs": [],
   "source": [
    "def generate_valid_initial_routes(distance_matrix, num_vehiculos, almacen, demandas, capacidades):\n",
    "    clientes = [cliente for cliente in range(len(distance_matrix)) if cliente != almacen]\n",
    "    valid_routes_found = False\n",
    "    while not valid_routes_found:\n",
    "        random.shuffle(clientes)\n",
    "        routes = [[almacen] for _ in range(num_vehiculos)]\n",
    "        for cliente in clientes:\n",
    "            for route in routes:\n",
    "                if sum(demandas[r] for r in route) + demandas[cliente] <= capacidades[routes.index(route)]:\n",
    "                    route.append(cliente)\n",
    "                    break\n",
    "        for route in routes:\n",
    "            route.append(almacen)\n",
    "        if all(calculate_route_distance(route, distance_matrix, 1) != float('inf') for route in routes):\n",
    "            valid_routes_found = True\n",
    "    return routes\n"
   ]
  },
  {
   "cell_type": "code",
   "execution_count": 138,
   "metadata": {},
   "outputs": [],
   "source": [
    "def calculate_total_distance(routes, distance_matrix, costes):\n",
    "    total_distance = 0\n",
    "    for route, cost in zip(routes, costes):\n",
    "        total_distance += calculate_route_distance(route, distance_matrix, cost)\n",
    "    return total_distance"
   ]
  },
  {
   "cell_type": "code",
   "execution_count": 139,
   "metadata": {},
   "outputs": [],
   "source": [
    "def generate_vecinos_multiple(routes, almacen, demandas, capacidades):\n",
    "    neighbors = []\n",
    "    for i in range(len(routes)):\n",
    "        for j in range(len(routes)):\n",
    "            if i != j:\n",
    "                for k in range(1, len(routes[i]) - 1):\n",
    "                    for l in range(1, len(routes[j]) - 1):\n",
    "                        neighbor = [route[:] for route in routes]\n",
    "                        neighbor[i][k], neighbor[j][l] = neighbor[j][l], neighbor[i][k]\n",
    "                        if is_valid_route(neighbor[i], demandas, capacidades[i]) and is_valid_route(neighbor[j], demandas, capacidades[j]):\n",
    "                            neighbors.append(neighbor)\n",
    "    return neighbors"
   ]
  },
  {
   "cell_type": "code",
   "execution_count": 140,
   "metadata": {},
   "outputs": [],
   "source": [
    "def tabu_search_multiple_tsp(distance_matrix, initial_routes, max_iterations, tabu_size, almacen, costes, demandas, capacidades, max_no_improve=20):\n",
    "    current_routes = initial_routes\n",
    "    best_routes = current_routes\n",
    "    best_distance = calculate_total_distance(current_routes, distance_matrix, costes)\n",
    "    tabu_list = []\n",
    "    historial = []\n",
    "    no_improve_counter = 0\n",
    "\n",
    "    for iteration in range(max_iterations):\n",
    "        neighbors = generate_vecinos_multiple(current_routes, almacen, demandas, capacidades)\n",
    "        evaluated_neighbors = [(neighbor, calculate_total_distance(neighbor, distance_matrix, costes)) \n",
    "                               for neighbor in neighbors if neighbor not in tabu_list]\n",
    "\n",
    "        if not evaluated_neighbors:\n",
    "            break  # Si no hay vecinos válidos, detener el algoritmo\n",
    "\n",
    "        best_neighbor, best_neighbor_distance = min(evaluated_neighbors, key=lambda x: x[1])\n",
    "        \n",
    "        current_routes = best_neighbor\n",
    "        if best_neighbor_distance < best_distance:\n",
    "            best_routes = best_neighbor\n",
    "            best_distance = best_neighbor_distance\n",
    "            no_improve_counter = 0\n",
    "        else:\n",
    "            no_improve_counter += 1 \n",
    "\n",
    "        # Actualizar lista Tabú\n",
    "        tabu_list.append(best_neighbor)\n",
    "        if len(tabu_list) > tabu_size:\n",
    "            tabu_list.pop(0)\n",
    "\n",
    "        # Guardar historial\n",
    "        historial.append((best_neighbor, best_neighbor_distance))\n",
    "\n",
    "        # Verificar criterio de parada adicional\n",
    "        if no_improve_counter >= max_no_improve:\n",
    "            print(f\"Parada anticipada: {no_improve_counter} iteraciones sin mejora.\")\n",
    "            break\n",
    "\n",
    "    return best_routes, best_distance, historial\n",
    "\n"
   ]
  },
  {
   "cell_type": "code",
   "execution_count": 141,
   "metadata": {},
   "outputs": [],
   "source": [
    "almacen = len(clients_names) - 1\n",
    "num_vehicle = 5\n",
    "costes = df_vehicle['costo_km'].to_list()\n",
    "capacidades = df_vehicle['capacidad_kg'].to_list()\n",
    "demandas_dict = dict(zip(df_orders[\"cliente\"], df_orders[\"order_demand\"]))\n",
    "demandas = [demandas_dict.get(client, 0) for client in clients_names]\n",
    "\n",
    "initial_routes = generate_valid_initial_routes(distances_matrix, num_vehicle, almacen, demandas, capacidades)\n"
   ]
  },
  {
   "cell_type": "code",
   "execution_count": 142,
   "metadata": {},
   "outputs": [
    {
     "name": "stdout",
     "output_type": "stream",
     "text": [
      "Parada anticipada: 20 iteraciones sin mejora.\n"
     ]
    }
   ],
   "source": [
    "# Parámetros iniciales\n",
    "max_iterations = 100\n",
    "tabu_size = 10\n",
    "max_no_improve = 20  # Número máximo de iteraciones sin mejora\n",
    "\n",
    "# Ejecutar Tabu Search\n",
    "mejor_solucion, costo_mejor_solucion, historial = tabu_search_multiple_tsp(\n",
    "    distances_matrix, initial_routes, max_iterations, tabu_size, almacen, costes, demandas, capacidades, max_no_improve=max_no_improve\n",
    ")\n"
   ]
  },
  {
   "cell_type": "code",
   "execution_count": 143,
   "metadata": {},
   "outputs": [],
   "source": [
    "def convert_routes_to_coordinates(routes, clients):\n",
    "    routes_with_coordinates = []\n",
    "    for route in routes:\n",
    "        route_coords = [tuple(clients[clients_names[client]]) for client in route]\n",
    "        routes_with_coordinates.append(route_coords)\n",
    "    return routes_with_coordinates\n",
    "\n",
    "mejor_solucion_coords = convert_routes_to_coordinates(mejor_solucion, clients)"
   ]
  },
  {
   "cell_type": "code",
   "execution_count": 144,
   "metadata": {},
   "outputs": [],
   "source": [
    "# Guardar el modelo\n",
    "modelo_tabu = {\n",
    "    \"mejor_solucion\": mejor_solucion_coords,\n",
    "    \"costo_mejor_solucion\": costo_mejor_solucion,\n",
    "    \"parametros\": {\n",
    "        \"tamano_tabu\": tabu_size,\n",
    "        \"max_iteraciones\": max_iterations,\n",
    "        \"criterio_parada\": f\"Sin mejora en {max_no_improve} iteraciones\"\n",
    "    },\n",
    "    \"historial\": historial\n",
    "}"
   ]
  },
  {
   "cell_type": "code",
   "execution_count": 149,
   "metadata": {},
   "outputs": [],
   "source": [
    "def calc_cost_km(vehicle, route):\n",
    "    clients = [i for i in route if i != 'Almacén']\n",
    "    peso_total = sum([df_orders[df_orders['cliente'] == cliente]['order_demand'].iloc[0] for cliente in clients])\n",
    "    total_km = 0\n",
    "    df_distance_aux = df_distance.copy()\n",
    "    df_distance_aux.index = df_distance_aux.columns\n",
    "    for i in range(len(route)-1):\n",
    "        client_1 = route[i]\n",
    "        client_2 = route[i+1]\n",
    "        total_km += df_distance_aux[client_1][client_2]\n",
    "    cost_vehicle = df_vehicle[df_vehicle['vehiculo_id'] == vehicle]['costo_km'].iloc[0]\n",
    "    precio_cost = round(total_km * cost_vehicle,2)\n",
    "    return precio_cost, round(total_km,2), peso_total"
   ]
  },
  {
   "cell_type": "code",
   "execution_count": 150,
   "metadata": {},
   "outputs": [
    {
     "name": "stdout",
     "output_type": "stream",
     "text": [
      "[0, {'vehicle': 1, 'clientes': ['Almacén', 'Cliente_9', 'Cliente_6', 'Almacén'], 'distancia_total': np.float64(6.65), 'peso_total': np.int64(1794), 'costo_total': np.float64(1.33)}]\n",
      "[1, {'vehicle': 2, 'clientes': ['Almacén', 'Cliente_15', 'Cliente_8', 'Cliente_19', 'Cliente_20', 'Almacén'], 'distancia_total': np.float64(76.08), 'peso_total': np.int64(3640), 'costo_total': np.float64(10.65)}]\n",
      "[2, {'vehicle': 3, 'clientes': ['Almacén', 'Cliente_1', 'Cliente_14', 'Cliente_5', 'Cliente_17', 'Cliente_11', 'Almacén'], 'distancia_total': np.float64(25.37), 'peso_total': np.int64(4730), 'costo_total': np.float64(5.07)}]\n",
      "[3, {'vehicle': 4, 'clientes': ['Almacén', 'Cliente_12', 'Cliente_18', 'Cliente_10', 'Almacén'], 'distancia_total': np.float64(26.62), 'peso_total': np.int64(2910), 'costo_total': np.float64(5.06)}]\n",
      "[4, {'vehicle': 5, 'clientes': ['Almacén', 'Cliente_7', 'Cliente_2', 'Cliente_3', 'Cliente_13', 'Cliente_16', 'Cliente_4', 'Almacén'], 'distancia_total': np.float64(28.77), 'peso_total': np.int64(5664), 'costo_total': np.float64(9.21)}]\n"
     ]
    }
   ],
   "source": [
    "rutas_finales = []\n",
    "for i, ruta in enumerate(modelo_tabu['mejor_solucion']):\n",
    "    ruta = [df_location[(df_location['Latitud'] == cliente[0]) & (df_location['Longitud'] == cliente[1])]['Cliente'].iloc[0] for cliente in ruta]\n",
    "    cost, km, peso_total = calc_cost_km(i+1, ruta)\n",
    "    print([i, {'vehicle': i+1,'clientes': ruta, 'distancia_total': km, 'peso_total': peso_total, 'costo_total': cost}])"
   ]
  },
  {
   "cell_type": "code",
   "execution_count": 147,
   "metadata": {},
   "outputs": [
    {
     "name": "stdout",
     "output_type": "stream",
     "text": [
      "1.5 7.49\n"
     ]
    },
    {
     "data": {
      "text/plain": [
       "(np.float64(1.5), np.float64(7.49), np.int64(1828))"
      ]
     },
     "execution_count": 147,
     "metadata": {},
     "output_type": "execute_result"
    }
   ],
   "source": [
    "route = ['Almacén', 'Cliente_9', 'Cliente_11', 'Almacén']\n",
    "calc_cost_km(vehicle=1, route=route)"
   ]
  },
  {
   "cell_type": "code",
   "execution_count": 148,
   "metadata": {},
   "outputs": [
    {
     "data": {
      "text/html": [
       "<div>\n",
       "<style scoped>\n",
       "    .dataframe tbody tr th:only-of-type {\n",
       "        vertical-align: middle;\n",
       "    }\n",
       "\n",
       "    .dataframe tbody tr th {\n",
       "        vertical-align: top;\n",
       "    }\n",
       "\n",
       "    .dataframe thead th {\n",
       "        text-align: right;\n",
       "    }\n",
       "</style>\n",
       "<table border=\"1\" class=\"dataframe\">\n",
       "  <thead>\n",
       "    <tr style=\"text-align: right;\">\n",
       "      <th></th>\n",
       "      <th>cliente</th>\n",
       "      <th>mes_anio</th>\n",
       "      <th>order_demand</th>\n",
       "    </tr>\n",
       "  </thead>\n",
       "  <tbody>\n",
       "    <tr>\n",
       "      <th>0</th>\n",
       "      <td>Cliente_1</td>\n",
       "      <td>12-2024</td>\n",
       "      <td>909</td>\n",
       "    </tr>\n",
       "    <tr>\n",
       "      <th>1</th>\n",
       "      <td>Cliente_2</td>\n",
       "      <td>12-2024</td>\n",
       "      <td>959</td>\n",
       "    </tr>\n",
       "    <tr>\n",
       "      <th>2</th>\n",
       "      <td>Cliente_3</td>\n",
       "      <td>12-2024</td>\n",
       "      <td>960</td>\n",
       "    </tr>\n",
       "    <tr>\n",
       "      <th>3</th>\n",
       "      <td>Cliente_4</td>\n",
       "      <td>12-2024</td>\n",
       "      <td>980</td>\n",
       "    </tr>\n",
       "    <tr>\n",
       "      <th>4</th>\n",
       "      <td>Cliente_5</td>\n",
       "      <td>12-2024</td>\n",
       "      <td>979</td>\n",
       "    </tr>\n",
       "    <tr>\n",
       "      <th>5</th>\n",
       "      <td>Cliente_6</td>\n",
       "      <td>12-2024</td>\n",
       "      <td>908</td>\n",
       "    </tr>\n",
       "    <tr>\n",
       "      <th>6</th>\n",
       "      <td>Cliente_7</td>\n",
       "      <td>12-2024</td>\n",
       "      <td>924</td>\n",
       "    </tr>\n",
       "    <tr>\n",
       "      <th>7</th>\n",
       "      <td>Cliente_8</td>\n",
       "      <td>12-2024</td>\n",
       "      <td>920</td>\n",
       "    </tr>\n",
       "    <tr>\n",
       "      <th>8</th>\n",
       "      <td>Cliente_9</td>\n",
       "      <td>12-2024</td>\n",
       "      <td>886</td>\n",
       "    </tr>\n",
       "    <tr>\n",
       "      <th>9</th>\n",
       "      <td>Cliente_10</td>\n",
       "      <td>12-2024</td>\n",
       "      <td>964</td>\n",
       "    </tr>\n",
       "    <tr>\n",
       "      <th>10</th>\n",
       "      <td>Cliente_11</td>\n",
       "      <td>12-2024</td>\n",
       "      <td>942</td>\n",
       "    </tr>\n",
       "    <tr>\n",
       "      <th>11</th>\n",
       "      <td>Cliente_12</td>\n",
       "      <td>12-2024</td>\n",
       "      <td>974</td>\n",
       "    </tr>\n",
       "    <tr>\n",
       "      <th>12</th>\n",
       "      <td>Cliente_13</td>\n",
       "      <td>12-2024</td>\n",
       "      <td>950</td>\n",
       "    </tr>\n",
       "    <tr>\n",
       "      <th>13</th>\n",
       "      <td>Cliente_14</td>\n",
       "      <td>12-2024</td>\n",
       "      <td>932</td>\n",
       "    </tr>\n",
       "    <tr>\n",
       "      <th>14</th>\n",
       "      <td>Cliente_15</td>\n",
       "      <td>12-2024</td>\n",
       "      <td>938</td>\n",
       "    </tr>\n",
       "    <tr>\n",
       "      <th>15</th>\n",
       "      <td>Cliente_16</td>\n",
       "      <td>12-2024</td>\n",
       "      <td>891</td>\n",
       "    </tr>\n",
       "    <tr>\n",
       "      <th>16</th>\n",
       "      <td>Cliente_17</td>\n",
       "      <td>12-2024</td>\n",
       "      <td>968</td>\n",
       "    </tr>\n",
       "    <tr>\n",
       "      <th>17</th>\n",
       "      <td>Cliente_18</td>\n",
       "      <td>12-2024</td>\n",
       "      <td>972</td>\n",
       "    </tr>\n",
       "    <tr>\n",
       "      <th>18</th>\n",
       "      <td>Cliente_19</td>\n",
       "      <td>12-2024</td>\n",
       "      <td>901</td>\n",
       "    </tr>\n",
       "    <tr>\n",
       "      <th>19</th>\n",
       "      <td>Cliente_20</td>\n",
       "      <td>12-2024</td>\n",
       "      <td>881</td>\n",
       "    </tr>\n",
       "  </tbody>\n",
       "</table>\n",
       "</div>"
      ],
      "text/plain": [
       "       cliente mes_anio  order_demand\n",
       "0    Cliente_1  12-2024           909\n",
       "1    Cliente_2  12-2024           959\n",
       "2    Cliente_3  12-2024           960\n",
       "3    Cliente_4  12-2024           980\n",
       "4    Cliente_5  12-2024           979\n",
       "5    Cliente_6  12-2024           908\n",
       "6    Cliente_7  12-2024           924\n",
       "7    Cliente_8  12-2024           920\n",
       "8    Cliente_9  12-2024           886\n",
       "9   Cliente_10  12-2024           964\n",
       "10  Cliente_11  12-2024           942\n",
       "11  Cliente_12  12-2024           974\n",
       "12  Cliente_13  12-2024           950\n",
       "13  Cliente_14  12-2024           932\n",
       "14  Cliente_15  12-2024           938\n",
       "15  Cliente_16  12-2024           891\n",
       "16  Cliente_17  12-2024           968\n",
       "17  Cliente_18  12-2024           972\n",
       "18  Cliente_19  12-2024           901\n",
       "19  Cliente_20  12-2024           881"
      ]
     },
     "execution_count": 148,
     "metadata": {},
     "output_type": "execute_result"
    }
   ],
   "source": [
    "df_orders"
   ]
  }
 ],
 "metadata": {
  "kernelspec": {
   "display_name": ".env",
   "language": "python",
   "name": "python3"
  },
  "language_info": {
   "codemirror_mode": {
    "name": "ipython",
    "version": 3
   },
   "file_extension": ".py",
   "mimetype": "text/x-python",
   "name": "python",
   "nbconvert_exporter": "python",
   "pygments_lexer": "ipython3",
   "version": "3.12.0"
  }
 },
 "nbformat": 4,
 "nbformat_minor": 2
}
